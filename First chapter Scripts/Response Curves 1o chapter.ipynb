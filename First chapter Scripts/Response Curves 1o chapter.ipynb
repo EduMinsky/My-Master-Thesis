{
 "cells": [
  {
   "cell_type": "code",
   "execution_count": 16,
   "id": "0709408c",
   "metadata": {},
   "outputs": [
    {
     "data": {
      "text/plain": [
       "(500, 6)"
      ]
     },
     "execution_count": 16,
     "metadata": {},
     "output_type": "execute_result"
    }
   ],
   "source": [
    "import matplotlib.pyplot as plt\n",
    "import numpy as np\n",
    "import math\n",
    "import pandas as pd\n",
    "import os\n",
    "import seaborn as sns\n",
    "os.chdir('D:/Pesquisa/Mestrado/PRIMEIRO_CAPITULO_DIFERENCIADO')\n",
    "os.listdir()\n",
    "dados = pd.read_csv('CurvaResposta_RdPd.csv',sep =',')\n",
    "dados.shape"
   ]
  },
  {
   "cell_type": "code",
   "execution_count": 17,
   "id": "879a0cd5",
   "metadata": {},
   "outputs": [
    {
     "name": "stdout",
     "output_type": "stream",
     "text": [
      "   Unnamed: 0        Value  Response     lower     upper         variable\n",
      "0           1 -5448.000000  0.087274  0.052042  0.122505  bathy_atlantico\n",
      "1           2 -5392.979798  0.087280  0.052049  0.122511  bathy_atlantico\n",
      "2           3 -5337.959596  0.087363  0.052119  0.122607  bathy_atlantico\n",
      "3           4 -5282.939394  0.087518  0.052247  0.122789  bathy_atlantico\n",
      "4           5 -5227.919192  0.087746  0.052436  0.123057  bathy_atlantico\n"
     ]
    }
   ],
   "source": [
    "print(dados.head(5))\n",
    "del dados['Unnamed: 0']\n"
   ]
  },
  {
   "cell_type": "code",
   "execution_count": 18,
   "id": "e02ab7b6",
   "metadata": {},
   "outputs": [
    {
     "name": "stdout",
     "output_type": "stream",
     "text": [
      "         Value  Response     lower     upper         variable\n",
      "0 -5448.000000  0.087274  0.052042  0.122505  bathy_atlantico\n",
      "1 -5392.979798  0.087280  0.052049  0.122511  bathy_atlantico\n",
      "2 -5337.959596  0.087363  0.052119  0.122607  bathy_atlantico ['bathy_atlantico', 'biogeo08_atlantic', 'biogeo12_atlantic', 'biogeo14_atlantic', 'biogeo15_atlantic']\n"
     ]
    }
   ],
   "source": [
    "print(dados.head(3),list(dados['variable'].unique()))"
   ]
  },
  {
   "cell_type": "code",
   "execution_count": 19,
   "id": "b260a88a",
   "metadata": {},
   "outputs": [],
   "source": [
    "batimetria = dados[dados['variable']=='bathy_atlantico']\n",
    "geo08=dados[dados['variable']=='biogeo08_atlantic']\n",
    "geo12=dados[dados['variable']=='biogeo12_atlantic']\n",
    "geo14=dados[dados['variable']=='biogeo14_atlantic']\n",
    "geo15=dados[dados['variable']=='biogeo15_atlantic']"
   ]
  },
  {
   "cell_type": "code",
   "execution_count": 20,
   "id": "0551d569",
   "metadata": {},
   "outputs": [],
   "source": [
    "#Para Batimetria\n",
    "xbat = batimetria[\"Value\"]/100\n",
    "ybat = batimetria[\"Response\"]\n",
    "liminfbat = batimetria[\"lower\"]\n",
    "limsupbat = batimetria[\"upper\"]\n",
    "\n",
    "#Para geo08\n",
    "xgeo08 = geo08[\"Value\"]/100\n",
    "ygeo08 = geo08[\"Response\"]\n",
    "liminfgeo08 = geo08[\"lower\"]\n",
    "limsupgeo08 = geo08[\"upper\"]\n",
    "\n",
    "#Para geo12\n",
    "xgeo12 = geo12[\"Value\"]/10000\n",
    "ygeo12 = geo12[\"Response\"]\n",
    "liminfgeo12 = geo12[\"lower\"]\n",
    "limsupgeo12 = geo12[\"upper\"]\n",
    "\n",
    "#Para geo14\n",
    "xgeo14 = geo14[\"Value\"]/100\n",
    "ygeo14 = geo14[\"Response\"]\n",
    "liminfgeo14 = geo14[\"lower\"]\n",
    "limsupgeo14 = geo14[\"upper\"]\n",
    "\n",
    "#Para geo15\n",
    "xgeo15 = geo15[\"Value\"]/100\n",
    "ygeo15 = geo15[\"Response\"]\n",
    "liminfgeo15 = geo15[\"lower\"]\n",
    "limsupgeo15 = geo15[\"upper\"]"
   ]
  },
  {
   "cell_type": "code",
   "execution_count": 21,
   "id": "52c36294",
   "metadata": {},
   "outputs": [
    {
     "data": {
      "text/plain": [
       "<matplotlib.collections.PolyCollection at 0x206ce02af10>"
      ]
     },
     "execution_count": 21,
     "metadata": {},
     "output_type": "execute_result"
    },
    {
     "data": {
      "image/png": "[encoded data removed]",
      "text/plain": [
       "<Figure size 1584x216 with 5 Axes>"
      ]
     },
     "metadata": {
      "needs_background": "light"
     },
     "output_type": "display_data"
    }
   ],
   "source": [
    "plt.rcParams['figure.figsize'] = [22, 3]\n",
    "fig, ax = plt.subplots(1, 5)\n",
    "fig.tight_layout()\n",
    "\n",
    "ax1 = plt.subplot(1,5,1)\n",
    "\n",
    "plt.plot(xbat, ybat,color = 'navy',lw = 1)\n",
    "plt.fill_between(xbat, liminfbat, limsupbat, color='gray', alpha=0.1)\n",
    "\n",
    "ax2 = plt.subplot(1,5,2,sharey=ax1)\n",
    "\n",
    "plt.plot(xgeo08, ygeo08,color = 'navy',lw = 1)\n",
    "plt.fill_between(xgeo08, liminfgeo08, limsupgeo08, color='gray', alpha=0.1)\n",
    "\n",
    "ax3 = plt.subplot(1,5,3,sharey = ax1)\n",
    "\n",
    "plt.plot(xgeo12, ygeo12,color = 'navy',lw = 1)\n",
    "plt.fill_between(xgeo12, liminfgeo12, limsupgeo12, color='gray', alpha=0.1)\n",
    "\n",
    "ax4 = plt.subplot(1,5,4,sharey = ax1)\n",
    "\n",
    "plt.plot(xgeo14, ygeo14,color = 'navy',lw = 1)\n",
    "plt.fill_between(xgeo14, liminfgeo14, limsupgeo14, color='gray', alpha=0.1)\n",
    "\n",
    "ax5 = plt.subplot(1,5,5,sharey = ax1)\n",
    "\n",
    "plt.plot(xgeo15, ygeo15,color = 'navy',lw = 1)\n",
    "plt.fill_between(xgeo15, liminfgeo15, limsupgeo15, color='gray', alpha=0.1)\n",
    "\n",
    "\n"
   ]
  }
 ],
 "metadata": {
  "kernelspec": {
   "display_name": "Python 3 (ipykernel)",
   "language": "python",
   "name": "python3"
  },
  "language_info": {
   "codemirror_mode": {
    "name": "ipython",
    "version": 3
   },
   "file_extension": ".py",
   "mimetype": "text/x-python",
   "name": "python",
   "nbconvert_exporter": "python",
   "pygments_lexer": "ipython3",
   "version": "3.8.8"
  }
 },
 "nbformat": 4,
 "nbformat_minor": 5
}
